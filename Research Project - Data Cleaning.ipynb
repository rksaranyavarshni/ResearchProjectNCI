{
 "cells": [
  {
   "cell_type": "code",
   "execution_count": 1,
   "metadata": {},
   "outputs": [],
   "source": [
    "import pandas as pd\n",
    "import numpy  as np"
   ]
  },
  {
   "cell_type": "markdown",
   "metadata": {},
   "source": [
    "## Reading the dataset from the .csv file"
   ]
  },
  {
   "cell_type": "code",
   "execution_count": 2,
   "metadata": {},
   "outputs": [],
   "source": [
    "df = pd.read_csv('energy_dataset.csv', parse_dates=['time'])"
   ]
  },
  {
   "cell_type": "markdown",
   "metadata": {},
   "source": [
    "## Droping un-needed columns"
   ]
  },
  {
   "cell_type": "code",
   "execution_count": 3,
   "metadata": {},
   "outputs": [],
   "source": [
    "columns_required  = ['time', 'generation biomass', 'generation hydro water reservoir',  'generation fossil hard coal', 'generation nuclear', 'generation solar']\n",
    "df = df[columns_required]"
   ]
  },
  {
   "cell_type": "markdown",
   "metadata": {},
   "source": [
    "## Making the 'time' column as index"
   ]
  },
  {
   "cell_type": "code",
   "execution_count": 4,
   "metadata": {},
   "outputs": [],
   "source": [
    "df['time'] = pd.to_datetime(df['time'], utc=True, infer_datetime_format=True)\n",
    "df.set_index('time', inplace=True)"
   ]
  },
  {
   "cell_type": "markdown",
   "metadata": {},
   "source": [
    "## Now that the dataset in required format, we will start cleaning the data"
   ]
  },
  {
   "cell_type": "code",
   "execution_count": 5,
   "metadata": {},
   "outputs": [
    {
     "name": "stdout",
     "output_type": "stream",
     "text": [
      "Number of missing values in our dataset: 90\n"
     ]
    }
   ],
   "source": [
    "print(\n",
    "        f'Number of missing values in our dataset: {df.isnull().values.sum()}'\n",
    ")"
   ]
  },
  {
   "cell_type": "markdown",
   "metadata": {},
   "source": [
    "## As, there are a lot of missing values in the dataset, will check which column has how many missing values "
   ]
  },
  {
   "cell_type": "code",
   "execution_count": 6,
   "metadata": {},
   "outputs": [
    {
     "data": {
      "text/plain": [
       "generation biomass                  19\n",
       "generation hydro water reservoir    18\n",
       "generation fossil hard coal         18\n",
       "generation nuclear                  17\n",
       "generation solar                    18\n",
       "dtype: int64"
      ]
     },
     "execution_count": 6,
     "metadata": {},
     "output_type": "execute_result"
    }
   ],
   "source": [
    "df.isnull().sum(axis=0)"
   ]
  },
  {
   "cell_type": "markdown",
   "metadata": {},
   "source": [
    "## The similar numbers indicate that the missing values for every column are actually entire missing rows. Lets test this hypothesis. We will plot every row that contains atleast one missing value"
   ]
  },
  {
   "cell_type": "code",
   "execution_count": 7,
   "metadata": {},
   "outputs": [
    {
     "data": {
      "text/html": [
       "<div>\n",
       "<style scoped>\n",
       "    .dataframe tbody tr th:only-of-type {\n",
       "        vertical-align: middle;\n",
       "    }\n",
       "\n",
       "    .dataframe tbody tr th {\n",
       "        vertical-align: top;\n",
       "    }\n",
       "\n",
       "    .dataframe thead th {\n",
       "        text-align: right;\n",
       "    }\n",
       "</style>\n",
       "<table border=\"1\" class=\"dataframe\">\n",
       "  <thead>\n",
       "    <tr style=\"text-align: right;\">\n",
       "      <th></th>\n",
       "      <th>generation biomass</th>\n",
       "      <th>generation hydro water reservoir</th>\n",
       "      <th>generation fossil hard coal</th>\n",
       "      <th>generation nuclear</th>\n",
       "      <th>generation solar</th>\n",
       "    </tr>\n",
       "    <tr>\n",
       "      <th>time</th>\n",
       "      <th></th>\n",
       "      <th></th>\n",
       "      <th></th>\n",
       "      <th></th>\n",
       "      <th></th>\n",
       "    </tr>\n",
       "  </thead>\n",
       "  <tbody>\n",
       "    <tr>\n",
       "      <th>2015-01-05 02:00:00+00:00</th>\n",
       "      <td>NaN</td>\n",
       "      <td>NaN</td>\n",
       "      <td>NaN</td>\n",
       "      <td>NaN</td>\n",
       "      <td>NaN</td>\n",
       "    </tr>\n",
       "    <tr>\n",
       "      <th>2015-01-05 11:00:00+00:00</th>\n",
       "      <td>NaN</td>\n",
       "      <td>NaN</td>\n",
       "      <td>NaN</td>\n",
       "      <td>NaN</td>\n",
       "      <td>NaN</td>\n",
       "    </tr>\n",
       "    <tr>\n",
       "      <th>2015-01-05 12:00:00+00:00</th>\n",
       "      <td>NaN</td>\n",
       "      <td>NaN</td>\n",
       "      <td>NaN</td>\n",
       "      <td>NaN</td>\n",
       "      <td>NaN</td>\n",
       "    </tr>\n",
       "    <tr>\n",
       "      <th>2015-01-05 13:00:00+00:00</th>\n",
       "      <td>NaN</td>\n",
       "      <td>NaN</td>\n",
       "      <td>NaN</td>\n",
       "      <td>NaN</td>\n",
       "      <td>NaN</td>\n",
       "    </tr>\n",
       "    <tr>\n",
       "      <th>2015-01-05 14:00:00+00:00</th>\n",
       "      <td>NaN</td>\n",
       "      <td>NaN</td>\n",
       "      <td>NaN</td>\n",
       "      <td>NaN</td>\n",
       "      <td>NaN</td>\n",
       "    </tr>\n",
       "    <tr>\n",
       "      <th>2015-01-05 15:00:00+00:00</th>\n",
       "      <td>NaN</td>\n",
       "      <td>NaN</td>\n",
       "      <td>NaN</td>\n",
       "      <td>NaN</td>\n",
       "      <td>NaN</td>\n",
       "    </tr>\n",
       "    <tr>\n",
       "      <th>2015-01-05 16:00:00+00:00</th>\n",
       "      <td>NaN</td>\n",
       "      <td>NaN</td>\n",
       "      <td>NaN</td>\n",
       "      <td>NaN</td>\n",
       "      <td>NaN</td>\n",
       "    </tr>\n",
       "    <tr>\n",
       "      <th>2015-01-19 18:00:00+00:00</th>\n",
       "      <td>NaN</td>\n",
       "      <td>NaN</td>\n",
       "      <td>NaN</td>\n",
       "      <td>NaN</td>\n",
       "      <td>NaN</td>\n",
       "    </tr>\n",
       "    <tr>\n",
       "      <th>2015-01-19 19:00:00+00:00</th>\n",
       "      <td>NaN</td>\n",
       "      <td>NaN</td>\n",
       "      <td>NaN</td>\n",
       "      <td>NaN</td>\n",
       "      <td>NaN</td>\n",
       "    </tr>\n",
       "    <tr>\n",
       "      <th>2015-01-27 18:00:00+00:00</th>\n",
       "      <td>NaN</td>\n",
       "      <td>NaN</td>\n",
       "      <td>NaN</td>\n",
       "      <td>NaN</td>\n",
       "      <td>NaN</td>\n",
       "    </tr>\n",
       "    <tr>\n",
       "      <th>2015-01-28 12:00:00+00:00</th>\n",
       "      <td>NaN</td>\n",
       "      <td>NaN</td>\n",
       "      <td>NaN</td>\n",
       "      <td>NaN</td>\n",
       "      <td>NaN</td>\n",
       "    </tr>\n",
       "    <tr>\n",
       "      <th>2015-04-16 07:00:00+00:00</th>\n",
       "      <td>NaN</td>\n",
       "      <td>NaN</td>\n",
       "      <td>NaN</td>\n",
       "      <td>NaN</td>\n",
       "      <td>NaN</td>\n",
       "    </tr>\n",
       "    <tr>\n",
       "      <th>2015-04-23 19:00:00+00:00</th>\n",
       "      <td>NaN</td>\n",
       "      <td>NaN</td>\n",
       "      <td>NaN</td>\n",
       "      <td>NaN</td>\n",
       "      <td>NaN</td>\n",
       "    </tr>\n",
       "    <tr>\n",
       "      <th>2015-06-15 07:00:00+00:00</th>\n",
       "      <td>NaN</td>\n",
       "      <td>NaN</td>\n",
       "      <td>NaN</td>\n",
       "      <td>NaN</td>\n",
       "      <td>NaN</td>\n",
       "    </tr>\n",
       "    <tr>\n",
       "      <th>2015-10-02 09:00:00+00:00</th>\n",
       "      <td>NaN</td>\n",
       "      <td>NaN</td>\n",
       "      <td>NaN</td>\n",
       "      <td>NaN</td>\n",
       "      <td>NaN</td>\n",
       "    </tr>\n",
       "    <tr>\n",
       "      <th>2015-12-02 08:00:00+00:00</th>\n",
       "      <td>NaN</td>\n",
       "      <td>NaN</td>\n",
       "      <td>NaN</td>\n",
       "      <td>NaN</td>\n",
       "      <td>NaN</td>\n",
       "    </tr>\n",
       "    <tr>\n",
       "      <th>2016-07-09 20:00:00+00:00</th>\n",
       "      <td>NaN</td>\n",
       "      <td>NaN</td>\n",
       "      <td>NaN</td>\n",
       "      <td>6923.0</td>\n",
       "      <td>NaN</td>\n",
       "    </tr>\n",
       "    <tr>\n",
       "      <th>2016-11-23 03:00:00+00:00</th>\n",
       "      <td>NaN</td>\n",
       "      <td>435.0</td>\n",
       "      <td>4547.0</td>\n",
       "      <td>5040.0</td>\n",
       "      <td>15.0</td>\n",
       "    </tr>\n",
       "    <tr>\n",
       "      <th>2018-07-11 07:00:00+00:00</th>\n",
       "      <td>NaN</td>\n",
       "      <td>NaN</td>\n",
       "      <td>NaN</td>\n",
       "      <td>NaN</td>\n",
       "      <td>NaN</td>\n",
       "    </tr>\n",
       "  </tbody>\n",
       "</table>\n",
       "</div>"
      ],
      "text/plain": [
       "                           generation biomass  \\\n",
       "time                                            \n",
       "2015-01-05 02:00:00+00:00                 NaN   \n",
       "2015-01-05 11:00:00+00:00                 NaN   \n",
       "2015-01-05 12:00:00+00:00                 NaN   \n",
       "2015-01-05 13:00:00+00:00                 NaN   \n",
       "2015-01-05 14:00:00+00:00                 NaN   \n",
       "2015-01-05 15:00:00+00:00                 NaN   \n",
       "2015-01-05 16:00:00+00:00                 NaN   \n",
       "2015-01-19 18:00:00+00:00                 NaN   \n",
       "2015-01-19 19:00:00+00:00                 NaN   \n",
       "2015-01-27 18:00:00+00:00                 NaN   \n",
       "2015-01-28 12:00:00+00:00                 NaN   \n",
       "2015-04-16 07:00:00+00:00                 NaN   \n",
       "2015-04-23 19:00:00+00:00                 NaN   \n",
       "2015-06-15 07:00:00+00:00                 NaN   \n",
       "2015-10-02 09:00:00+00:00                 NaN   \n",
       "2015-12-02 08:00:00+00:00                 NaN   \n",
       "2016-07-09 20:00:00+00:00                 NaN   \n",
       "2016-11-23 03:00:00+00:00                 NaN   \n",
       "2018-07-11 07:00:00+00:00                 NaN   \n",
       "\n",
       "                           generation hydro water reservoir  \\\n",
       "time                                                          \n",
       "2015-01-05 02:00:00+00:00                               NaN   \n",
       "2015-01-05 11:00:00+00:00                               NaN   \n",
       "2015-01-05 12:00:00+00:00                               NaN   \n",
       "2015-01-05 13:00:00+00:00                               NaN   \n",
       "2015-01-05 14:00:00+00:00                               NaN   \n",
       "2015-01-05 15:00:00+00:00                               NaN   \n",
       "2015-01-05 16:00:00+00:00                               NaN   \n",
       "2015-01-19 18:00:00+00:00                               NaN   \n",
       "2015-01-19 19:00:00+00:00                               NaN   \n",
       "2015-01-27 18:00:00+00:00                               NaN   \n",
       "2015-01-28 12:00:00+00:00                               NaN   \n",
       "2015-04-16 07:00:00+00:00                               NaN   \n",
       "2015-04-23 19:00:00+00:00                               NaN   \n",
       "2015-06-15 07:00:00+00:00                               NaN   \n",
       "2015-10-02 09:00:00+00:00                               NaN   \n",
       "2015-12-02 08:00:00+00:00                               NaN   \n",
       "2016-07-09 20:00:00+00:00                               NaN   \n",
       "2016-11-23 03:00:00+00:00                             435.0   \n",
       "2018-07-11 07:00:00+00:00                               NaN   \n",
       "\n",
       "                           generation fossil hard coal  generation nuclear  \\\n",
       "time                                                                         \n",
       "2015-01-05 02:00:00+00:00                          NaN                 NaN   \n",
       "2015-01-05 11:00:00+00:00                          NaN                 NaN   \n",
       "2015-01-05 12:00:00+00:00                          NaN                 NaN   \n",
       "2015-01-05 13:00:00+00:00                          NaN                 NaN   \n",
       "2015-01-05 14:00:00+00:00                          NaN                 NaN   \n",
       "2015-01-05 15:00:00+00:00                          NaN                 NaN   \n",
       "2015-01-05 16:00:00+00:00                          NaN                 NaN   \n",
       "2015-01-19 18:00:00+00:00                          NaN                 NaN   \n",
       "2015-01-19 19:00:00+00:00                          NaN                 NaN   \n",
       "2015-01-27 18:00:00+00:00                          NaN                 NaN   \n",
       "2015-01-28 12:00:00+00:00                          NaN                 NaN   \n",
       "2015-04-16 07:00:00+00:00                          NaN                 NaN   \n",
       "2015-04-23 19:00:00+00:00                          NaN                 NaN   \n",
       "2015-06-15 07:00:00+00:00                          NaN                 NaN   \n",
       "2015-10-02 09:00:00+00:00                          NaN                 NaN   \n",
       "2015-12-02 08:00:00+00:00                          NaN                 NaN   \n",
       "2016-07-09 20:00:00+00:00                          NaN              6923.0   \n",
       "2016-11-23 03:00:00+00:00                       4547.0              5040.0   \n",
       "2018-07-11 07:00:00+00:00                          NaN                 NaN   \n",
       "\n",
       "                           generation solar  \n",
       "time                                         \n",
       "2015-01-05 02:00:00+00:00               NaN  \n",
       "2015-01-05 11:00:00+00:00               NaN  \n",
       "2015-01-05 12:00:00+00:00               NaN  \n",
       "2015-01-05 13:00:00+00:00               NaN  \n",
       "2015-01-05 14:00:00+00:00               NaN  \n",
       "2015-01-05 15:00:00+00:00               NaN  \n",
       "2015-01-05 16:00:00+00:00               NaN  \n",
       "2015-01-19 18:00:00+00:00               NaN  \n",
       "2015-01-19 19:00:00+00:00               NaN  \n",
       "2015-01-27 18:00:00+00:00               NaN  \n",
       "2015-01-28 12:00:00+00:00               NaN  \n",
       "2015-04-16 07:00:00+00:00               NaN  \n",
       "2015-04-23 19:00:00+00:00               NaN  \n",
       "2015-06-15 07:00:00+00:00               NaN  \n",
       "2015-10-02 09:00:00+00:00               NaN  \n",
       "2015-12-02 08:00:00+00:00               NaN  \n",
       "2016-07-09 20:00:00+00:00               NaN  \n",
       "2016-11-23 03:00:00+00:00              15.0  \n",
       "2018-07-11 07:00:00+00:00               NaN  "
      ]
     },
     "execution_count": 7,
     "metadata": {},
     "output_type": "execute_result"
    }
   ],
   "source": [
    "df[df.isnull().any(axis=1)]"
   ]
  },
  {
   "cell_type": "markdown",
   "metadata": {},
   "source": [
    "## We can see here that our hypothesis is correct, now we have to find a way to handle these missing values.\n",
    "## We can do the following:\n",
    "<ul style=\"font-size:20px\">\n",
    "  <li>We can fill these missing values with average values of the coulmn</li>\n",
    "  <li>We can just drop these entire rows</li>\n",
    "  <li>We can find a better way of filling them/li>\n",
    "</ul>\n",
    "\n",
    "## The first method of filling entire rows with averages will not generate meaningful data, but will only crerate outliers. The second way will create a discrepency in the time differences of the dataset. We can fill the missing values using time-based interpolation which pandas already provides us. "
   ]
  },
  {
   "cell_type": "code",
   "execution_count": 8,
   "metadata": {},
   "outputs": [],
   "source": [
    "df.interpolate(method='time', limit_direction='forward', inplace=True, axis=0)"
   ]
  },
  {
   "cell_type": "markdown",
   "metadata": {},
   "source": [
    "## Lets check for missing values in the dataset now"
   ]
  },
  {
   "cell_type": "code",
   "execution_count": 9,
   "metadata": {},
   "outputs": [
    {
     "data": {
      "text/plain": [
       "generation biomass                  0\n",
       "generation hydro water reservoir    0\n",
       "generation fossil hard coal         0\n",
       "generation nuclear                  0\n",
       "generation solar                    0\n",
       "dtype: int64"
      ]
     },
     "execution_count": 9,
     "metadata": {},
     "output_type": "execute_result"
    }
   ],
   "source": [
    "df.isnull().sum(axis=0)"
   ]
  },
  {
   "cell_type": "code",
   "execution_count": 10,
   "metadata": {},
   "outputs": [
    {
     "data": {
      "text/html": [
       "<div>\n",
       "<style scoped>\n",
       "    .dataframe tbody tr th:only-of-type {\n",
       "        vertical-align: middle;\n",
       "    }\n",
       "\n",
       "    .dataframe tbody tr th {\n",
       "        vertical-align: top;\n",
       "    }\n",
       "\n",
       "    .dataframe thead th {\n",
       "        text-align: right;\n",
       "    }\n",
       "</style>\n",
       "<table border=\"1\" class=\"dataframe\">\n",
       "  <thead>\n",
       "    <tr style=\"text-align: right;\">\n",
       "      <th></th>\n",
       "      <th>generation biomass</th>\n",
       "      <th>generation hydro water reservoir</th>\n",
       "      <th>generation fossil hard coal</th>\n",
       "      <th>generation nuclear</th>\n",
       "      <th>generation solar</th>\n",
       "    </tr>\n",
       "    <tr>\n",
       "      <th>time</th>\n",
       "      <th></th>\n",
       "      <th></th>\n",
       "      <th></th>\n",
       "      <th></th>\n",
       "      <th></th>\n",
       "    </tr>\n",
       "  </thead>\n",
       "  <tbody>\n",
       "  </tbody>\n",
       "</table>\n",
       "</div>"
      ],
      "text/plain": [
       "Empty DataFrame\n",
       "Columns: [generation biomass, generation hydro water reservoir, generation fossil hard coal, generation nuclear, generation solar]\n",
       "Index: []"
      ]
     },
     "execution_count": 10,
     "metadata": {},
     "output_type": "execute_result"
    }
   ],
   "source": [
    "df[df.isnull().any(axis=1)]"
   ]
  },
  {
   "cell_type": "markdown",
   "metadata": {},
   "source": [
    "## As it can be seen above, the dataset is clean and now it can be saved."
   ]
  },
  {
   "cell_type": "code",
   "execution_count": 11,
   "metadata": {},
   "outputs": [],
   "source": [
    "df.to_csv('energy_dataset_cleaned.csv', index_label='time')"
   ]
  },
  {
   "cell_type": "code",
   "execution_count": null,
   "metadata": {},
   "outputs": [],
   "source": []
  }
 ],
 "metadata": {
  "interpreter": {
   "hash": "db3ca9ec755843094bfe658d337cf97d381b019c52f517307d44cf002f9583d1"
  },
  "kernelspec": {
   "display_name": "Python 3",
   "language": "python",
   "name": "python3"
  },
  "language_info": {
   "codemirror_mode": {
    "name": "ipython",
    "version": 3
   },
   "file_extension": ".py",
   "mimetype": "text/x-python",
   "name": "python",
   "nbconvert_exporter": "python",
   "pygments_lexer": "ipython3",
   "version": "3.9.5"
  }
 },
 "nbformat": 4,
 "nbformat_minor": 2
}
